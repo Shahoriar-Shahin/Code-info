{
 "cells": [
  {
   "cell_type": "markdown",
   "metadata": {},
   "source": [
    "# Set\n",
    " 1. To represent a group of unique velues as a single entity.\n",
    " 2. Duplicates are not allowed\n",
    " 3. insertion order is not preserved\n",
    " 4. indexing and slicing are not allowed\n",
    " 5. hetrogeeneous elements are allowed\n",
    " 6. set object is mutable, we can change it's content based on our requirement.\n",
    " 7. Set represent by curly braces with comma seperation\n",
    " "
   ]
  },
  {
   "cell_type": "markdown",
   "metadata": {},
   "source": [
    "# Creation Of Set Object:"
   ]
  },
  {
   "cell_type": "code",
   "execution_count": 1,
   "metadata": {
    "scrolled": true
   },
   "outputs": [
    {
     "name": "stdout",
     "output_type": "stream",
     "text": [
      "{40, 10, 20, 30}\n",
      "<class 'set'>\n"
     ]
    }
   ],
   "source": [
    "s = {10,20,30,40}\n",
    "print(s)\n",
    "print(type(s))"
   ]
  },
  {
   "cell_type": "code",
   "execution_count": 2,
   "metadata": {
    "scrolled": true
   },
   "outputs": [
    {
     "name": "stdout",
     "output_type": "stream",
     "text": [
      "{40, 10, 20, 30}\n"
     ]
    }
   ],
   "source": [
    "# We can create set objects by using set() funcion.\n",
    "# s = set(any sequence)\n",
    "l =[10,20,30,40,10,20,10]\n",
    "s = set(l)\n",
    "print(s)"
   ]
  },
  {
   "cell_type": "code",
   "execution_count": 3,
   "metadata": {
    "scrolled": true
   },
   "outputs": [
    {
     "name": "stdout",
     "output_type": "stream",
     "text": [
      "{0, 1, 2, 3, 4, 5, 6, 7, 8, 9}\n"
     ]
    }
   ],
   "source": [
    "s = set(range(10))\n",
    "print(s)"
   ]
  },
  {
   "cell_type": "code",
   "execution_count": 6,
   "metadata": {
    "scrolled": true
   },
   "outputs": [
    {
     "name": "stdout",
     "output_type": "stream",
     "text": [
      "set()\n"
     ]
    }
   ],
   "source": [
    "# To create empty set\n",
    "# s = set()\n",
    "s = set()\n",
    "print(s)"
   ]
  },
  {
   "cell_type": "markdown",
   "metadata": {},
   "source": [
    "# Important Function Of Set:\n",
    "\n",
    "\n",
    "1) add(x) :       adds item x to the set\n",
    "\n",
    "2) update(x,y,z): To add multiple items to the set\n",
    "\n",
    "3) copy():        To returns copy of the set\n",
    "\n",
    "4) pop():         To remove last element and return element from the set.\n",
    "\n",
    "5) remove(x):     To remove specified element from the set.\n",
    "\n",
    "6) discard(x):    To remove specified element from the set.\n",
    "\n",
    "7) clear():       To remove all elements from the set."
   ]
  },
  {
   "cell_type": "markdown",
   "metadata": {},
   "source": [
    "# add() : adds item x to the set"
   ]
  },
  {
   "cell_type": "code",
   "execution_count": 9,
   "metadata": {
    "scrolled": false
   },
   "outputs": [
    {
     "name": "stdout",
     "output_type": "stream",
     "text": [
      "{40, 10, 20, 30}\n"
     ]
    }
   ],
   "source": [
    "# 1 add(x):  adds item x to the set\n",
    "\n",
    "s= {10,20,30}\n",
    "s.add(40)\n",
    "print(s)\n"
   ]
  },
  {
   "cell_type": "code",
   "execution_count": 10,
   "metadata": {
    "scrolled": true
   },
   "outputs": [
    {
     "name": "stdout",
     "output_type": "stream",
     "text": [
      "{'Shahin', 'Alvi', 'Lupin'}\n"
     ]
    }
   ],
   "source": [
    "# add element in an empty set\n",
    "s = set()\n",
    "s.add('Shahin')\n",
    "s.add('Lupin')\n",
    "s.add('Alvi')\n",
    "print(s)"
   ]
  },
  {
   "cell_type": "markdown",
   "metadata": {},
   "source": [
    "# update(x,y,z) : \n",
    "1. To add multiple items to the set\n",
    "2. all elements present in the given iterable objects will be added to the set.\n",
    "3. Argumeents are not individual elements and these are iterable objects like List,range etc."
   ]
  },
  {
   "cell_type": "code",
   "execution_count": 12,
   "metadata": {
    "scrolled": true
   },
   "outputs": [
    {
     "name": "stdout",
     "output_type": "stream",
     "text": [
      "{0, 1, 2, 3, 100, 4, 200, 40, 10, 300, 50, 60}\n"
     ]
    }
   ],
   "source": [
    "s = {100,200,300}\n",
    "l = [40,50,60,10]\n",
    "s.update(l,range(5))\n",
    "print(s)"
   ]
  },
  {
   "cell_type": "code",
   "execution_count": 14,
   "metadata": {
    "scrolled": true
   },
   "outputs": [
    {
     "name": "stdout",
     "output_type": "stream",
     "text": [
      "{0, 1, 2, 3, 100, 4, 5, 7, 200, 40, 10, 9, 300, 6, 8, 50, 60}\n"
     ]
    }
   ],
   "source": [
    "s.update(range(1,10,2),range(0,10,2))\n",
    "print(s)"
   ]
  },
  {
   "cell_type": "code",
   "execution_count": 16,
   "metadata": {
    "scrolled": true
   },
   "outputs": [
    {
     "name": "stdout",
     "output_type": "stream",
     "text": [
      "{'Tony', 'Jisan', 'lupin', 'shahin', 'bithi'}\n"
     ]
    }
   ],
   "source": [
    "s={'shahin','lupin'}\n",
    "l = ['bithi','Tony','Jisan']\n",
    "s.update(l)\n",
    "print(s)"
   ]
  },
  {
   "cell_type": "code",
   "execution_count": 17,
   "metadata": {
    "scrolled": true
   },
   "outputs": [
    {
     "name": "stdout",
     "output_type": "stream",
     "text": [
      "{1, 2, 3, 4, 5, 6, 7, 8, 9}\n"
     ]
    }
   ],
   "source": [
    "s ={1,2,3}\n",
    "s.update(range(3,10))\n",
    "print(s)"
   ]
  },
  {
   "cell_type": "markdown",
   "metadata": {},
   "source": [
    "# copy(): \n",
    "\n",
    "1. Return copy of the set\n",
    "\n",
    "2. it's cloned objec"
   ]
  },
  {
   "cell_type": "code",
   "execution_count": 22,
   "metadata": {
    "scrolled": true
   },
   "outputs": [
    {
     "name": "stdout",
     "output_type": "stream",
     "text": [
      "{'lupin', 'Alvi', 'shahin'}\n",
      "address id of s: 2260485896008\n",
      "\n",
      "After copy of set element, s to s1:\n",
      "{'lupin', 'Alvi', 'shahin'}\n",
      "address id of s1: 2260485897576\n"
     ]
    }
   ],
   "source": [
    "s = {'shahin','lupin','Alvi'}\n",
    "s1= s.copy()\n",
    "print(s)\n",
    "print('address id of s:',id(s))\n",
    "print()\n",
    "print('After copy of set element, s to s1:')\n",
    "print(s1)\n",
    "print('address id of s1:', id(s1))\n"
   ]
  },
  {
   "cell_type": "markdown",
   "metadata": {},
   "source": [
    "# pop() :\n",
    " 1. To remove element and return some random element from the set."
   ]
  },
  {
   "cell_type": "code",
   "execution_count": 24,
   "metadata": {
    "scrolled": true
   },
   "outputs": [
    {
     "name": "stdout",
     "output_type": "stream",
     "text": [
      "Before pop set elements are: {'lupin', 'Tony', 'Alvi', 'shahin'}\n",
      "pop element: lupin\n",
      "After pop set elements are: {'Tony', 'Alvi', 'shahin'}\n"
     ]
    }
   ],
   "source": [
    "s = {'shahin','lupin','Alvi','Tony'}\n",
    "print('Before pop set elements are:', s)\n",
    "print('pop element:', s.pop())\n",
    "print('After pop set elements are:',s)"
   ]
  },
  {
   "cell_type": "markdown",
   "metadata": {},
   "source": [
    "# remove():\n",
    "\n",
    "1. To remove specified element from the set."
   ]
  },
  {
   "cell_type": "code",
   "execution_count": 26,
   "metadata": {
    "scrolled": true
   },
   "outputs": [
    {
     "name": "stdout",
     "output_type": "stream",
     "text": [
      "Before remove the set element: {'Jisan', 'lupin', 'Tony', 'shahin'}\n",
      "After remove the set elements: {'lupin', 'Tony', 'shahin'}\n"
     ]
    }
   ],
   "source": [
    "s = {'shahin','lupin','Tony','Jisan'}\n",
    "print('Before remove the set element:',s)\n",
    "\n",
    "s.remove('Jisan')\n",
    "print('After remove the set elements:', s)"
   ]
  },
  {
   "cell_type": "markdown",
   "metadata": {},
   "source": [
    "# discard():\n",
    "\n",
    "1.It removes specified element from the set"
   ]
  },
  {
   "cell_type": "code",
   "execution_count": 27,
   "metadata": {
    "scrolled": true
   },
   "outputs": [
    {
     "name": "stdout",
     "output_type": "stream",
     "text": [
      "Before discard the set element: {'Jisan', 'lupin', 'Tony', 'shahin'}\n",
      "After discard the set elements: {'lupin', 'Tony', 'shahin'}\n"
     ]
    }
   ],
   "source": [
    "s = {'shahin','lupin','Tony','Jisan'}\n",
    "print('Before discard the set element:',s)\n",
    "\n",
    "s.discard('Jisan')\n",
    "print('After discard the set elements:', s)"
   ]
  },
  {
   "cell_type": "markdown",
   "metadata": {},
   "source": [
    "# clear():\n",
    " 1. To remove all elements from the set"
   ]
  },
  {
   "cell_type": "code",
   "execution_count": 29,
   "metadata": {
    "scrolled": true
   },
   "outputs": [
    {
     "name": "stdout",
     "output_type": "stream",
     "text": [
      "Before clear the set element: {'Jisan', 'lupin', 'Tony', 'shahin'}\n",
      "After clear the set elements: set()\n"
     ]
    }
   ],
   "source": [
    "s = {'shahin','lupin','Tony','Jisan'}\n",
    "print('Before clear the set element:',s)\n",
    "\n",
    "s.clear()\n",
    "print('After clear the set elements:', s)"
   ]
  },
  {
   "cell_type": "markdown",
   "metadata": {},
   "source": [
    "# Mathematical Functions Of Set:\n",
    "\n",
    "1. union() --         To represents all the elements present in the both sets.\n",
    "2. intersection() --  To return common elements present in both sets.\n",
    "3. x.difference(y) -- To return element present in x not in y.\n",
    "4. symmetric_difference() -- Return elements present in either x or y but not both."
   ]
  },
  {
   "cell_type": "markdown",
   "metadata": {},
   "source": [
    "# union() :\n",
    " 1. Return all elements present in both sets"
   ]
  },
  {
   "cell_type": "code",
   "execution_count": 32,
   "metadata": {
    "scrolled": true
   },
   "outputs": [
    {
     "name": "stdout",
     "output_type": "stream",
     "text": [
      "s set elements: {'alvi', 'lupin', 'shahin'}\n",
      "n set elements: {'shawon', 'Sanvi', 'Tony'}\n",
      "\n",
      "After union: {'alvi', 'shawon', 'lupin', 'Sanvi', 'shahin', 'Tony'}\n"
     ]
    }
   ],
   "source": [
    "s = {'shahin','lupin','alvi'}\n",
    "n = {'shawon','Tony','Sanvi'}\n",
    "u = s.union(n)\n",
    "print('s set elements:',s)\n",
    "print('n set elements:',n)\n",
    "print()\n",
    "print('After union:',u)"
   ]
  },
  {
   "cell_type": "code",
   "execution_count": 33,
   "metadata": {
    "scrolled": true
   },
   "outputs": [
    {
     "name": "stdout",
     "output_type": "stream",
     "text": [
      "{1, 2, 3}\n",
      "{4, 5, 6}\n",
      "\n",
      "After Union: {1, 2, 3, 4, 5, 6}\n"
     ]
    }
   ],
   "source": [
    "s1 = {1,2,3}\n",
    "s2 = {4,5,6}\n",
    "u = s1.union(s2)\n",
    "print(s1)\n",
    "print(s2)\n",
    "print()\n",
    "print('After Union:',u)"
   ]
  },
  {
   "cell_type": "markdown",
   "metadata": {},
   "source": [
    "# intersection():\n",
    "\n",
    "1. Return common elements present in both x and y."
   ]
  },
  {
   "cell_type": "code",
   "execution_count": 47,
   "metadata": {
    "scrolled": true
   },
   "outputs": [
    {
     "name": "stdout",
     "output_type": "stream",
     "text": [
      "s1: {1, 2, 3, 4}\n",
      "s2: {2, 4, 5, 6}\n",
      "\n",
      "After intersection: {2, 4}\n"
     ]
    }
   ],
   "source": [
    "s1 = {1,2,3,4}\n",
    "s2 = {4,5,6,2}\n",
    "i = s1.intersection(s2)\n",
    "print('s1:',s1)\n",
    "print('s2:',s2)\n",
    "print()\n",
    "print('After intersection:',i)"
   ]
  },
  {
   "cell_type": "code",
   "execution_count": 44,
   "metadata": {
    "scrolled": true
   },
   "outputs": [
    {
     "name": "stdout",
     "output_type": "stream",
     "text": [
      "s set elements: {'alvi', 'lupin', 'shahin'}\n",
      "n set elements: {'shawon', 'Tony', 'lupin', 'Sanvi', 'shahin'}\n",
      "\n",
      "After intersection: {'lupin', 'shahin'}\n"
     ]
    }
   ],
   "source": [
    "s = {'shahin','lupin','alvi'}\n",
    "n = {'shawon','shahin','Tony','Sanvi','lupin'}\n",
    "i = s.intersection(n)\n",
    "print('s set elements:',s)\n",
    "print('n set elements:',n)\n",
    "print()\n",
    "print('After intersection:',i)"
   ]
  },
  {
   "cell_type": "markdown",
   "metadata": {},
   "source": [
    "# difference():\n",
    "\n",
    "1. Return elements present in x but not y.\n"
   ]
  },
  {
   "cell_type": "code",
   "execution_count": 45,
   "metadata": {
    "scrolled": true
   },
   "outputs": [
    {
     "name": "stdout",
     "output_type": "stream",
     "text": [
      "s set elements: {'alvi', 'lupin', 'shahin'}\n",
      "n set elements: {'shawon', 'lupin', 'Tony', 'shahin'}\n",
      "\n",
      "After difference: {'alvi'}\n"
     ]
    }
   ],
   "source": [
    "s = {'shahin','lupin','alvi'}\n",
    "n = {'shawon','shahin','Tony','lupin'}\n",
    "d = s.difference(n)\n",
    "print('s set elements:',s)\n",
    "print('n set elements:',n)\n",
    "print()\n",
    "print('After difference:',d)"
   ]
  },
  {
   "cell_type": "code",
   "execution_count": 48,
   "metadata": {
    "scrolled": true
   },
   "outputs": [
    {
     "name": "stdout",
     "output_type": "stream",
     "text": [
      "s1: {1, 2, 3, 4}\n",
      "s2: {2, 4, 5, 6}\n",
      "\n",
      "After difference: {1, 3}\n"
     ]
    }
   ],
   "source": [
    "s1 = {1,2,3,4}\n",
    "s2 = {4,5,6,2}\n",
    "d = s1.difference(s2)\n",
    "print('s1:',s1)\n",
    "print('s2:',s2)\n",
    "print()\n",
    "print('After difference:',d)"
   ]
  },
  {
   "cell_type": "markdown",
   "metadata": {},
   "source": [
    "# symmetric_difference():\n",
    "\n",
    "1. Return elements present in either x or y but not in both."
   ]
  },
  {
   "cell_type": "code",
   "execution_count": 49,
   "metadata": {
    "scrolled": true
   },
   "outputs": [
    {
     "name": "stdout",
     "output_type": "stream",
     "text": [
      "x: {40, 10, 20, 30}\n",
      "y: {40, 50, 60, 30}\n",
      "\n",
      "After symmetric:\n",
      "sd: {10, 50, 20, 60}\n",
      "sm of symmetric(^): {10, 50, 20, 60}\n"
     ]
    }
   ],
   "source": [
    "x = {10,20,30,40}\n",
    "y = {30,40,50,60}\n",
    "sd = x.symmetric_difference(y)\n",
    "sm = x^y \n",
    "print('x:',x)\n",
    "print('y:',y)\n",
    "print()\n",
    "print('After symmetric:')\n",
    "print('sd:',sd)\n",
    "print('sm of symmetric(^):', sm)"
   ]
  },
  {
   "cell_type": "code",
   "execution_count": 50,
   "metadata": {
    "scrolled": true
   },
   "outputs": [
    {
     "name": "stdout",
     "output_type": "stream",
     "text": [
      "s set elements: {'alvi', 'lupin', 'shahin'}\n",
      "n set elements: {'shawon', 'lupin', 'Tony', 'shahin'}\n",
      "\n",
      "After difference: {'shawon', 'Tony', 'alvi'}\n"
     ]
    }
   ],
   "source": [
    "s = {'shahin','lupin','alvi'}\n",
    "n = {'shawon','shahin','Tony','lupin'}\n",
    "sd = s.symmetric_difference(n)\n",
    "print('s set elements:',s)\n",
    "print('n set elements:',n)\n",
    "print()\n",
    "print('After difference:',sd)"
   ]
  },
  {
   "cell_type": "markdown",
   "metadata": {},
   "source": [
    "# Membership Operator of Set:\n",
    "\n",
    "1. in\n",
    "2. not in"
   ]
  },
  {
   "cell_type": "code",
   "execution_count": 54,
   "metadata": {
    "scrolled": true
   },
   "outputs": [
    {
     "name": "stdout",
     "output_type": "stream",
     "text": [
      "{'n', 's', 'a', 'i', 'h'}\n",
      "True\n",
      "True\n",
      "True\n",
      "True\n",
      "True\n",
      "False\n"
     ]
    }
   ],
   "source": [
    "s = set('shahin')\n",
    "print(s)\n",
    "m = 's' in s\n",
    "print(m)\n",
    "n = 'n' in s\n",
    "print(n)\n",
    "nt = 'l' not in s\n",
    "x = 'i' not in s\n",
    "print(m)\n",
    "print(n)\n",
    "print(nt)\n",
    "print(x)\n"
   ]
  },
  {
   "cell_type": "markdown",
   "metadata": {},
   "source": [
    "# Set Comprehension:\n",
    "\n"
   ]
  },
  {
   "cell_type": "code",
   "execution_count": 55,
   "metadata": {
    "scrolled": true
   },
   "outputs": [
    {
     "name": "stdout",
     "output_type": "stream",
     "text": [
      "{0, 1, 4, 9, 16}\n"
     ]
    }
   ],
   "source": [
    "s = {x*x for x in range(5)}\n",
    "print(s)"
   ]
  },
  {
   "cell_type": "code",
   "execution_count": 56,
   "metadata": {},
   "outputs": [
    {
     "name": "stdout",
     "output_type": "stream",
     "text": [
      "{16, 256, 64, 4}\n"
     ]
    }
   ],
   "source": [
    "s = {2**x for x in range(2,10,2)}\n",
    "print(s)"
   ]
  }
 ],
 "metadata": {
  "kernelspec": {
   "display_name": "Python 3",
   "language": "python",
   "name": "python3"
  },
  "language_info": {
   "codemirror_mode": {
    "name": "ipython",
    "version": 3
   },
   "file_extension": ".py",
   "mimetype": "text/x-python",
   "name": "python",
   "nbconvert_exporter": "python",
   "pygments_lexer": "ipython3",
   "version": "3.7.4"
  }
 },
 "nbformat": 4,
 "nbformat_minor": 2
}
