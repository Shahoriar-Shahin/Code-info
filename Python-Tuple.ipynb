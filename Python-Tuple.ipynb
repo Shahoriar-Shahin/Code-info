{
 "cells": [
  {
   "cell_type": "code",
   "execution_count": 2,
   "metadata": {
    "scrolled": false
   },
   "outputs": [
    {
     "data": {
      "text/plain": [
       "(1, 2, 3, 4, 5)"
      ]
     },
     "execution_count": 2,
     "metadata": {},
     "output_type": "execute_result"
    }
   ],
   "source": [
    "# Tuple..\n",
    "t = 1,2,3,4,5\n",
    "t"
   ]
  },
  {
   "cell_type": "code",
   "execution_count": 7,
   "metadata": {
    "scrolled": true
   },
   "outputs": [
    {
     "name": "stdout",
     "output_type": "stream",
     "text": [
      "<class 'tuple'>\n",
      "(1, 2, 3, 4, 5)\n"
     ]
    }
   ],
   "source": [
    "print(type(t))\n",
    "# parenethesis is optional but recommended to used\n",
    "t1 = (1,2,3,4,5)\n",
    "print(t1)"
   ]
  },
  {
   "cell_type": "code",
   "execution_count": 9,
   "metadata": {
    "scrolled": true
   },
   "outputs": [
    {
     "name": "stdout",
     "output_type": "stream",
     "text": [
      "10\n",
      "<class 'int'>\n"
     ]
    }
   ],
   "source": [
    "# Single value tupled should ends with comma(,)- otherwisw it's no  treated as tuple value.\n",
    "\n",
    "t=(10)\n",
    "print(t)\n",
    "print(type(t))"
   ]
  },
  {
   "cell_type": "code",
   "execution_count": 11,
   "metadata": {
    "scrolled": true
   },
   "outputs": [
    {
     "name": "stdout",
     "output_type": "stream",
     "text": [
      "(10,)\n",
      "<class 'tuple'>\n"
     ]
    }
   ],
   "source": [
    "t =(10,)\n",
    "print(t)\n",
    "print(type(t))"
   ]
  },
  {
   "cell_type": "code",
   "execution_count": 15,
   "metadata": {
    "scrolled": true
   },
   "outputs": [
    {
     "name": "stdout",
     "output_type": "stream",
     "text": [
      "()\n",
      "(10,)\n",
      "(1, 2, 3, 4, 5)\n",
      "([1, 2, 3, 4, 5],)\n",
      "(0, 1, 2, 3, 4, 5, 6, 7, 8, 9)\n"
     ]
    }
   ],
   "source": [
    "# Tuple Creation...\n",
    "\n",
    "# 1. Creation of Empty Tuple:\n",
    "t = ()\n",
    "print(t)\n",
    "\n",
    "# 2. Creation of Single vale tuple :\n",
    "t = (10,)\n",
    "t = 10,\n",
    "print(t)\n",
    "\n",
    "# 3. Creation of multi values Tuples :\n",
    "t = (1,2,3,4,5)\n",
    "print(t)\n",
    "\n",
    "# 4. By using tuple funcction...\n",
    "\n",
    "# Creation Tuple of list\n",
    "list = [1,2,3,4,5]\n",
    "t = tuple([list])\n",
    "print(t)\n",
    "\n",
    "# Creation Tuple by using range() finction...    \n",
    "t =tuple(range(10))\n",
    "print(t)\n",
    "       "
   ]
  },
  {
   "cell_type": "code",
   "execution_count": 21,
   "metadata": {
    "scrolled": true
   },
   "outputs": [
    {
     "name": "stdout",
     "output_type": "stream",
     "text": [
      "10\n",
      "20\n",
      "30\n",
      "30\n",
      "40\n",
      "50\n"
     ]
    }
   ],
   "source": [
    "# Accessing Elements Of Tuple...\n",
    "# We can access tuple either by using index or by slice operator\n",
    "\n",
    "# 1. By using index--\n",
    "t = (10,20,30,40,50)\n",
    "print(t[0])\n",
    "print(t[1])\n",
    "print(t[2])\n",
    "print(t[2])\n",
    "print(t[3])\n",
    "print(t[4])"
   ]
  },
  {
   "cell_type": "code",
   "execution_count": 29,
   "metadata": {
    "scrolled": false
   },
   "outputs": [
    {
     "name": "stdout",
     "output_type": "stream",
     "text": [
      "('shahin', 'lupin', 'bithi', 'Tony', 'Shawon', 'Jisan')\n",
      "('bithi', 'Tony', 'Shawon', 'Jisan')\n",
      "('Jisan', 'Shawon', 'Tony', 'bithi', 'lupin', 'shahin')\n",
      "('lupin', 'Tony')\n",
      "shah\n"
     ]
    }
   ],
   "source": [
    "# 2. By using Slice...\n",
    "\n",
    "t = ('shahin','lupin','bithi','Tony','Shawon','Jisan')\n",
    "print(t[:])\n",
    "print(t[2:])\n",
    "print(t[::-1])\n",
    "print(t[1:5:2])\n",
    "print(t[-6][:4])"
   ]
  },
  {
   "cell_type": "code",
   "execution_count": 30,
   "metadata": {
    "scrolled": true
   },
   "outputs": [
    {
     "ename": "TypeError",
     "evalue": "'tuple' object does not support item assignment",
     "output_type": "error",
     "traceback": [
      "\u001b[1;31m---------------------------------------------------------------------------\u001b[0m",
      "\u001b[1;31mTypeError\u001b[0m                                 Traceback (most recent call last)",
      "\u001b[1;32m<ipython-input-30-737b96010257>\u001b[0m in \u001b[0;36m<module>\u001b[1;34m\u001b[0m\n\u001b[0;32m      4\u001b[0m \u001b[1;33m\u001b[0m\u001b[0m\n\u001b[0;32m      5\u001b[0m \u001b[0mt\u001b[0m \u001b[1;33m=\u001b[0m \u001b[1;33m(\u001b[0m\u001b[1;36m3\u001b[0m\u001b[1;33m,\u001b[0m\u001b[1;36m4\u001b[0m\u001b[1;33m,\u001b[0m\u001b[1;36m5\u001b[0m\u001b[1;33m,\u001b[0m\u001b[1;36m6\u001b[0m\u001b[1;33m,\u001b[0m\u001b[1;36m7\u001b[0m\u001b[1;33m)\u001b[0m\u001b[1;33m\u001b[0m\u001b[1;33m\u001b[0m\u001b[0m\n\u001b[1;32m----> 6\u001b[1;33m \u001b[0mt\u001b[0m\u001b[1;33m[\u001b[0m\u001b[1;36m2\u001b[0m\u001b[1;33m]\u001b[0m\u001b[1;33m=\u001b[0m \u001b[1;36m2\u001b[0m\u001b[1;33m\u001b[0m\u001b[1;33m\u001b[0m\u001b[0m\n\u001b[0m\u001b[0;32m      7\u001b[0m \u001b[0mprint\u001b[0m\u001b[1;33m(\u001b[0m\u001b[0mt\u001b[0m\u001b[1;33m)\u001b[0m\u001b[1;33m\u001b[0m\u001b[1;33m\u001b[0m\u001b[0m\n",
      "\u001b[1;31mTypeError\u001b[0m: 'tuple' object does not support item assignment"
     ]
    }
   ],
   "source": [
    "# List Vs Immutability...\n",
    "# Once we creates tuple , we cannot change its content\n",
    "# Hence Tuple Objects are immutable- means not change\n",
    "\n",
    "t = (3,4,5,6,7)\n",
    "t[2]= 2\n",
    "print(t)"
   ]
  },
  {
   "cell_type": "code",
   "execution_count": 32,
   "metadata": {
    "scrolled": true
   },
   "outputs": [
    {
     "name": "stdout",
     "output_type": "stream",
     "text": [
      "(1, 2, 3, 4, 5, 6, 7, 8, 9, 10)\n"
     ]
    }
   ],
   "source": [
    "# Mathematical OPERATOR FO Tuple...\n",
    "\n",
    "# 1. Concatenation Operator '+'\n",
    "l = (1,2,3,4,5)\n",
    "s = (6,7,8,9,10)\n",
    "l2 = l + s\n",
    "print(l2)"
   ]
  },
  {
   "cell_type": "code",
   "execution_count": 33,
   "metadata": {
    "scrolled": true
   },
   "outputs": [
    {
     "name": "stdout",
     "output_type": "stream",
     "text": [
      "('Shahin', 'Shahin', 'Shahin')\n"
     ]
    }
   ],
   "source": [
    "# Multiplication Operator or Repetition Operator '*'\n",
    "\n",
    "l =('Shahin',)\n",
    "m = l *3\n",
    "print(m)"
   ]
  },
  {
   "cell_type": "code",
   "execution_count": 37,
   "metadata": {
    "scrolled": true
   },
   "outputs": [
    {
     "name": "stdout",
     "output_type": "stream",
     "text": [
      "4\n",
      "4\n"
     ]
    }
   ],
   "source": [
    "# Important Function Of Tuple...\n",
    "\n",
    "# 1. len()- Function\n",
    "# To return number of elements present in the tuple.\n",
    "\n",
    "t = (10,20,30,40)\n",
    "s = len(t)\n",
    "print(len(t))\n",
    "print(s)"
   ]
  },
  {
   "cell_type": "code",
   "execution_count": 39,
   "metadata": {
    "scrolled": true
   },
   "outputs": [
    {
     "name": "stdout",
     "output_type": "stream",
     "text": [
      "2\n"
     ]
    }
   ],
   "source": [
    "# 2. count()- function\n",
    "# To return number of occurrences of given element in the tuple.\n",
    "\n",
    "l = (20,30,40,50,60,40,20,50)\n",
    "c = l.count(40)\n",
    "print(c)"
   ]
  },
  {
   "cell_type": "code",
   "execution_count": 43,
   "metadata": {
    "scrolled": true
   },
   "outputs": [
    {
     "name": "stdout",
     "output_type": "stream",
     "text": [
      "0\n",
      "3\n"
     ]
    }
   ],
   "source": [
    "# 3. index() - Function\n",
    "# To represent index of the given element\n",
    "l = (1,2,3,4,5)\n",
    "i = l.index(1)\n",
    "print(i)\n",
    "print(l.index(4))"
   ]
  },
  {
   "cell_type": "code",
   "execution_count": 49,
   "metadata": {
    "scrolled": true
   },
   "outputs": [
    {
     "name": "stdout",
     "output_type": "stream",
     "text": [
      "[1, 2, 3, 3, 4, 4, 5, 5, 8, 8]\n",
      "[1, 2, 3, 3, 4, 4, 5, 5, 8, 8]\n"
     ]
    }
   ],
   "source": [
    "# 4. sorted()- Function\n",
    "# To sort elements based on default natural sorting order.\n",
    "t = (2,3,1,4,5,3,8,8,5,4,)\n",
    "s = sorted(t)\n",
    "print(s)\n",
    "print(sorted(t))"
   ]
  },
  {
   "cell_type": "code",
   "execution_count": 53,
   "metadata": {
    "scrolled": true
   },
   "outputs": [
    {
     "name": "stdout",
     "output_type": "stream",
     "text": [
      "Min: 3 Max: 7\n"
     ]
    }
   ],
   "source": [
    "# 5. min() and max() -- function\n",
    "t = (3,4,5,6,7)\n",
    "mi = min(t)\n",
    "mx = max(t)\n",
    "print('Min:',mi,'Max:',mx)"
   ]
  },
  {
   "cell_type": "code",
   "execution_count": 54,
   "metadata": {
    "scrolled": true
   },
   "outputs": [
    {
     "ename": "NameError",
     "evalue": "name 'cmp' is not defined",
     "output_type": "error",
     "traceback": [
      "\u001b[1;31m---------------------------------------------------------------------------\u001b[0m",
      "\u001b[1;31mNameError\u001b[0m                                 Traceback (most recent call last)",
      "\u001b[1;32m<ipython-input-54-a9d2e0bc4110>\u001b[0m in \u001b[0;36m<module>\u001b[1;34m\u001b[0m\n\u001b[0;32m      8\u001b[0m \u001b[0mt2\u001b[0m \u001b[1;33m=\u001b[0m \u001b[1;33m(\u001b[0m\u001b[1;36m40\u001b[0m\u001b[1;33m,\u001b[0m\u001b[1;36m50\u001b[0m\u001b[1;33m,\u001b[0m\u001b[1;36m60\u001b[0m\u001b[1;33m)\u001b[0m\u001b[1;33m\u001b[0m\u001b[1;33m\u001b[0m\u001b[0m\n\u001b[0;32m      9\u001b[0m \u001b[0mt3\u001b[0m \u001b[1;33m=\u001b[0m \u001b[1;33m(\u001b[0m\u001b[1;36m10\u001b[0m\u001b[1;33m,\u001b[0m\u001b[1;36m20\u001b[0m\u001b[1;33m,\u001b[0m\u001b[1;36m30\u001b[0m\u001b[1;33m)\u001b[0m\u001b[1;33m\u001b[0m\u001b[1;33m\u001b[0m\u001b[0m\n\u001b[1;32m---> 10\u001b[1;33m \u001b[0meq\u001b[0m \u001b[1;33m=\u001b[0m \u001b[0mcmp\u001b[0m\u001b[1;33m(\u001b[0m\u001b[0mt1\u001b[0m\u001b[1;33m,\u001b[0m\u001b[0mt3\u001b[0m\u001b[1;33m)\u001b[0m\u001b[1;33m\u001b[0m\u001b[1;33m\u001b[0m\u001b[0m\n\u001b[0m\u001b[0;32m     11\u001b[0m \u001b[0mel\u001b[0m \u001b[1;33m=\u001b[0m \u001b[0mcmp\u001b[0m\u001b[1;33m(\u001b[0m\u001b[0mt1\u001b[0m\u001b[1;33m,\u001b[0m\u001b[0mt2\u001b[0m\u001b[1;33m)\u001b[0m\u001b[1;33m\u001b[0m\u001b[1;33m\u001b[0m\u001b[0m\n\u001b[0;32m     12\u001b[0m \u001b[0meL\u001b[0m\u001b[1;33m=\u001b[0m \u001b[0mcmp\u001b[0m\u001b[1;33m(\u001b[0m\u001b[0mt2\u001b[0m\u001b[1;33m,\u001b[0m\u001b[0mt1\u001b[0m\u001b[1;33m)\u001b[0m\u001b[1;33m\u001b[0m\u001b[1;33m\u001b[0m\u001b[0m\n",
      "\u001b[1;31mNameError\u001b[0m: name 'cmp' is not defined"
     ]
    }
   ],
   "source": [
    "# 6. cmp()-- function\n",
    "# 1. it compares the elements of both tuples.\n",
    "# 2. if both tuples are equel then return '0' Zero.\n",
    "# 3. if the first tuple is less than Second tuple than it return -1.\n",
    "# 4. if the first tuple is greater than second tuple than it's return +1.\n",
    "\n",
    "t1 =(10,20,30)\n",
    "t2 = (40,50,60)\n",
    "t3 = (10,20,30)\n",
    "eq = cmp(t1,t3)\n",
    "el = cmp(t1,t2)   \n",
    "eL = cmp(t2,t1)\n",
    "print('Equal Tuple:',eq,'\\nFirst Tuple is less:',el,'\\nSecond Tuple is Greater:',eL)\n",
    " \n",
    "\n",
    "# note : cmp() function only available only Python 2 but not python 3. "
   ]
  },
  {
   "cell_type": "code",
   "execution_count": 57,
   "metadata": {},
   "outputs": [
    {
     "name": "stdout",
     "output_type": "stream",
     "text": [
      "Tuple Packing: (10, 20, 30, 40)\n",
      "\n",
      "Tuple Unpacking:\n",
      "a = 10 b= 20 c= 30 d= 40\n"
     ]
    }
   ],
   "source": [
    "# Tuple Packing and Unpacking :\\\n",
    "# we can create a tuple by packing a group of values.\n",
    "a = 10\n",
    "b = 20\n",
    "c = 30\n",
    "d = 40\n",
    "t = a,b,c,d\n",
    "print('Tuple Packing:',t)\n",
    "\n",
    "\n",
    "#Tuple unpacking\n",
    "a,b,c,d = t\n",
    "print('\\nTuple Unpacking:')\n",
    "print('a =',a,'b=',b,'c=',c,'d=',d)"
   ]
  }
 ],
 "metadata": {
  "kernelspec": {
   "display_name": "Python 3",
   "language": "python",
   "name": "python3"
  },
  "language_info": {
   "codemirror_mode": {
    "name": "ipython",
    "version": 3
   },
   "file_extension": ".py",
   "mimetype": "text/x-python",
   "name": "python",
   "nbconvert_exporter": "python",
   "pygments_lexer": "ipython3",
   "version": "3.7.4"
  }
 },
 "nbformat": 4,
 "nbformat_minor": 2
}
